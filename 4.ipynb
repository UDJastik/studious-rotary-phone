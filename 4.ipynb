{
 "cells": [
  {
   "cell_type": "markdown",
   "metadata": {},
   "source": [
    "Практическая работа 4"
   ]
  },
  {
   "cell_type": "markdown",
   "metadata": {},
   "source": [
    "Задача 1"
   ]
  },
  {
   "cell_type": "code",
   "execution_count": 1,
   "metadata": {},
   "outputs": [
    {
     "name": "stdout",
     "output_type": "stream",
     "text": [
      "4\n",
      "5\n",
      "5\n"
     ]
    }
   ],
   "source": [
    "a=int(input())\n",
    "b=int(input())\n",
    "if a>b:\n",
    "    print(a)\n",
    "if b>a:\n",
    "    print(b)"
   ]
  },
  {
   "cell_type": "markdown",
   "metadata": {},
   "source": [
    "Задача 2"
   ]
  },
  {
   "cell_type": "code",
   "execution_count": 5,
   "metadata": {},
   "outputs": [
    {
     "name": "stdout",
     "output_type": "stream",
     "text": [
      "2\n",
      "2\n",
      "0\n"
     ]
    }
   ],
   "source": [
    "a=int(input())\n",
    "b=int(input())\n",
    "if a>b:\n",
    "    print(1)\n",
    "elif a<b:\n",
    "    print(2)\n",
    "else:\n",
    "    print(0)"
   ]
  },
  {
   "cell_type": "markdown",
   "metadata": {},
   "source": [
    "Задача 3"
   ]
  },
  {
   "cell_type": "code",
   "execution_count": 11,
   "metadata": {},
   "outputs": [
    {
     "name": "stdout",
     "output_type": "stream",
     "text": [
      "5\n",
      "5\n",
      "2\n",
      "5\n"
     ]
    }
   ],
   "source": [
    "a=int(input())\n",
    "b=int(input())\n",
    "c=int(input())\n",
    "m=a\n",
    "if b>m:\n",
    "    m=b\n",
    "if c>m:\n",
    "    m=c\n",
    "print(m)"
   ]
  },
  {
   "cell_type": "markdown",
   "metadata": {},
   "source": [
    "Задача 4"
   ]
  },
  {
   "cell_type": "code",
   "execution_count": 14,
   "metadata": {
    "scrolled": true
   },
   "outputs": [
    {
     "name": "stdout",
     "output_type": "stream",
     "text": [
      "2020\n",
      "YES\n"
     ]
    }
   ],
   "source": [
    "year = int(input())\n",
    "if (year % 4 == 0) and (year % 100 != 0) or (year % 400 == 0):\n",
    "    print('YES')\n",
    "else:\n",
    "    print('NO')"
   ]
  },
  {
   "cell_type": "markdown",
   "metadata": {},
   "source": [
    "Задача 5"
   ]
  },
  {
   "cell_type": "code",
   "execution_count": 16,
   "metadata": {
    "scrolled": true
   },
   "outputs": [
    {
     "name": "stdout",
     "output_type": "stream",
     "text": [
      "4\n",
      "3\n",
      "5\n",
      "4\n",
      "YES\n"
     ]
    }
   ],
   "source": [
    "x1 = int(input())\n",
    "y1 = int(input())\n",
    "x2 = int(input())\n",
    "y2 = int(input())\n",
    "if abs(x1 - x2) <= 1 and abs(y1 - y2) <= 1:\n",
    "    print('YES')\n",
    "else:\n",
    "    print('NO')"
   ]
  },
  {
   "cell_type": "markdown",
   "metadata": {},
   "source": [
    "Задача 6"
   ]
  },
  {
   "cell_type": "code",
   "execution_count": 17,
   "metadata": {},
   "outputs": [
    {
     "name": "stdout",
     "output_type": "stream",
     "text": [
      "3\n",
      "4\n",
      "YES\n"
     ]
    }
   ],
   "source": [
    "x=int(input()) \n",
    "y=int(input())\n",
    "if (x - 1) % (y - (x - 1)) == 0:\n",
    "    print('YES')\n",
    "else:\n",
    "    print('NO')"
   ]
  },
  {
   "cell_type": "markdown",
   "metadata": {},
   "source": [
    "Задача 7"
   ]
  },
  {
   "cell_type": "code",
   "execution_count": 18,
   "metadata": {
    "scrolled": true
   },
   "outputs": [
    {
     "name": "stdout",
     "output_type": "stream",
     "text": [
      "3\n",
      "1\n",
      "6\n",
      "5\n",
      "NO\n"
     ]
    }
   ],
   "source": [
    "x1 = int(input())\n",
    "y1 = int(input())\n",
    "x2 = int(input())\n",
    "y2 = int(input())\n",
    "if (x1 + y1 + x2 + y2) % 2 == 0:\n",
    "    print('YES')\n",
    "else:\n",
    "    print('NO')"
   ]
  },
  {
   "cell_type": "markdown",
   "metadata": {},
   "source": [
    "Задача 8"
   ]
  },
  {
   "cell_type": "code",
   "execution_count": 21,
   "metadata": {
    "scrolled": true
   },
   "outputs": [
    {
     "name": "stdout",
     "output_type": "stream",
     "text": [
      "6\n",
      "4\n",
      "3\n",
      "NO\n"
     ]
    }
   ],
   "source": [
    "n = int(input())\n",
    "m = int(input())\n",
    "k = int(input())\n",
    "if k < n * m and ((k % n == 0) or (k % m == 0)):\n",
    "    print('YES')\n",
    "else:\n",
    "    print('NO')"
   ]
  },
  {
   "cell_type": "markdown",
   "metadata": {},
   "source": [
    "Задача 9"
   ]
  },
  {
   "cell_type": "code",
   "execution_count": 24,
   "metadata": {},
   "outputs": [
    {
     "name": "stdout",
     "output_type": "stream",
     "text": [
      "101\n",
      "101 korova\n"
     ]
    }
   ],
   "source": [
    "n = int(input())\n",
    "if n in range(11, 15):\n",
    "    print(n, 'korov')\n",
    "else:\n",
    "    temp = n % 10\n",
    "    if temp in list(range(5,10))+[0]:\n",
    "            print(n, 'korov')\n",
    "    if temp == 1:\n",
    "            print(n, 'korova')\n",
    "    if temp in range(2,5):\n",
    "            print(n, 'korovy')"
   ]
  },
  {
   "cell_type": "markdown",
   "metadata": {},
   "source": [
    "Задача 10"
   ]
  },
  {
   "cell_type": "code",
   "execution_count": 28,
   "metadata": {
    "scrolled": true
   },
   "outputs": [
    {
     "name": "stdout",
     "output_type": "stream",
     "text": [
      "-6\n",
      "-1\n"
     ]
    }
   ],
   "source": [
    "x = int(input())\n",
    "if x > 0:\n",
    "    print(1)\n",
    "elif x == 0:\n",
    "    print(0)\n",
    "else:\n",
    "    print(-1)"
   ]
  },
  {
   "cell_type": "markdown",
   "metadata": {},
   "source": [
    "Задача 11"
   ]
  },
  {
   "cell_type": "code",
   "execution_count": 31,
   "metadata": {},
   "outputs": [
    {
     "name": "stdout",
     "output_type": "stream",
     "text": [
      "34\n",
      "54\n",
      "-5\n",
      "6\n",
      "NO\n"
     ]
    }
   ],
   "source": [
    "x1=int(input())\n",
    "y1=int(input())\n",
    "x2=int(input())\n",
    "y2=int(input())\n",
    "if (x1>0) and (y2>0) and (x2>0) and (y2>0):\n",
    "    print('YES')\n",
    "elif (x1<0) and (y2>0) and (x2<0) and (y2>0):\n",
    "    print('YES')\n",
    "elif (x1<0) and (y2<0) and (x2<0) and (y2<0):\n",
    "    print('YES')\n",
    "elif (x1>0) and (y2<0) and (x2>0) and (y2<0):\n",
    "    print('YES')\n",
    "else:\n",
    "    print('NO')"
   ]
  },
  {
   "cell_type": "markdown",
   "metadata": {},
   "source": [
    "Задача 12"
   ]
  },
  {
   "cell_type": "code",
   "execution_count": 34,
   "metadata": {},
   "outputs": [
    {
     "name": "stdout",
     "output_type": "stream",
     "text": [
      "1\n",
      "2\n",
      "3\n",
      "4\n",
      "YES\n"
     ]
    }
   ],
   "source": [
    "x1 = int(input())\n",
    "y1 = int(input())\n",
    "x2 = int(input())\n",
    "y2 = int(input())\n",
    "if y2 <= y1 or (x1 + y1) % 2 != (x2 + y2) % 2:\n",
    "    print('NO')\n",
    "else:\n",
    "    if x1 - (y2 - y1) <= x2 <= x1 + (y2 - y1):\n",
    "        print('YES')\n",
    "    else:\n",
    "        print('NO')"
   ]
  },
  {
   "cell_type": "markdown",
   "metadata": {},
   "source": [
    "Задача 13"
   ]
  },
  {
   "cell_type": "code",
   "execution_count": 51,
   "metadata": {
    "scrolled": true
   },
   "outputs": [
    {
     "name": "stdout",
     "output_type": "stream",
     "text": [
      "5\n",
      "6\n",
      "3\n",
      "obtuse\n"
     ]
    }
   ],
   "source": [
    "a = int(input())\n",
    "b = int(input())\n",
    "c = int(input())\n",
    "if (a + b > c) and (c + b > a) and (a + c > b):\n",
    "    if (a*a + b*b == c*c) or (a*a + c*c == b*b) or (c*c + b*b == a*a):\n",
    "        print(\"rectangular\")\n",
    "    elif (a*a + b*b < c*c) or (a*a + c*c < b*b) or (c*c + b*b < a*a):\n",
    "        print(\"obtuse\")\n",
    "    elif (a*a + b*b > c*c) or (a*a + c*c > b*b) or (c*c + b*b > a*a):\n",
    "        print(\"acute\")\n",
    "else:\n",
    "    print(\"impossible\")"
   ]
  },
  {
   "cell_type": "markdown",
   "metadata": {},
   "source": [
    "Задача 14"
   ]
  },
  {
   "cell_type": "code",
   "execution_count": 56,
   "metadata": {
    "scrolled": true
   },
   "outputs": [
    {
     "name": "stdout",
     "output_type": "stream",
     "text": [
      "0\n",
      "7\n",
      "5\n",
      "YES\n"
     ]
    }
   ],
   "source": [
    "a = int(input())\n",
    "b = int(input())\n",
    "c = int(input())\n",
    "if (a % 2 == 0 and b % 2 != 0) or (a % 2 != 0 and b % 2 == 0):\n",
    "    print(\"YES\")\n",
    "elif (a % 2 == 0 and c % 2 != 0) or (a % 2 != 0 and c % 2 == 0):\n",
    "    print(\"YES\")\n",
    "elif (b % 2 == 0 and c % 2 != 0) or (b % 2 != 0 and c % 2 == 0):\n",
    "    print(\"YES\")\n",
    "else:\n",
    "    print(\"NO\")"
   ]
  },
  {
   "cell_type": "markdown",
   "metadata": {},
   "source": [
    "Задача 15"
   ]
  },
  {
   "cell_type": "code",
   "execution_count": 61,
   "metadata": {
    "scrolled": true
   },
   "outputs": [
    {
     "name": "stdout",
     "output_type": "stream",
     "text": [
      "15\n",
      "15\n",
      "2\n",
      "2 15 15\n"
     ]
    }
   ],
   "source": [
    "a = int(input())\n",
    "b = int(input())\n",
    "c = int(input())\n",
    "if a > b:\n",
    "    a, b = b, a\n",
    "if b > c:\n",
    "    b, c = c, b\n",
    "if a > b:\n",
    "    a, b = b, a\n",
    "print(a, b, c)"
   ]
  },
  {
   "cell_type": "markdown",
   "metadata": {},
   "source": [
    "Задача 16"
   ]
  },
  {
   "cell_type": "code",
   "execution_count": 64,
   "metadata": {
    "scrolled": false
   },
   "outputs": [
    {
     "name": "stdout",
     "output_type": "stream",
     "text": [
      "5\n",
      "3\n",
      "5\n",
      "2\n"
     ]
    }
   ],
   "source": [
    "a = int(input())\n",
    "b = int(input())\n",
    "c = int(input())\n",
    "if a == b == c:\n",
    "    print(3)\n",
    "elif a == b or b == c or a == c:\n",
    "    print(2)\n",
    "else:\n",
    "    print(0)"
   ]
  },
  {
   "cell_type": "markdown",
   "metadata": {},
   "source": [
    "Задача 17"
   ]
  },
  {
   "cell_type": "code",
   "execution_count": 68,
   "metadata": {},
   "outputs": [
    {
     "name": "stdout",
     "output_type": "stream",
     "text": [
      "3\n",
      "2\n",
      "1\n",
      "4\n",
      "5\n",
      "YES\n"
     ]
    }
   ],
   "source": [
    "a = int(input())\n",
    "b = int(input())\n",
    "c = int(input())\n",
    "d = int(input())\n",
    "e = int(input())\n",
    "if (a <= d and b <= e) or (a <= e and b <= d):\n",
    "    print(\"YES\")\n",
    "elif (c <= d and b <= e) or (c <= e and b <= d):\n",
    "    print(\"YES\")\n",
    "elif (a <= d and c <= e) or (a <= e and c <= d):\n",
    "    print(\"YES\")\n",
    "else:\n",
    "    print(\"NO\")"
   ]
  },
  {
   "cell_type": "markdown",
   "metadata": {},
   "source": [
    "Задача 18"
   ]
  },
  {
   "cell_type": "code",
   "execution_count": 71,
   "metadata": {
    "scrolled": true
   },
   "outputs": [
    {
     "name": "stdout",
     "output_type": "stream",
     "text": [
      "4\n",
      "5\n",
      "6\n",
      "6\n",
      "5\n",
      "4\n",
      "Boxes are equal\n"
     ]
    }
   ],
   "source": [
    "A1 = int(input())\n",
    "B1 = int(input())\n",
    "C1 = int(input())\n",
    "A2 = int(input())\n",
    "B2 = int(input())\n",
    "C2 = int(input())\n",
    "if ((A1 == A2 and B1 == B2 and C1 == C2) or\n",
    "        (A1 == A2 and B1 == C2 and C1 == B2) or\n",
    "        (A1 == C2 and B1 == A2 and C1 == B2) or\n",
    "        (A1 == B2 and B1 == A2 and C1 == C2) or\n",
    "        (A1 == B2 and B1 == C2 and C1 == A2) or\n",
    "        (A1 == C2 and B1 == B2 and C1 == A2)):\n",
    "    print('Boxes are equal')\n",
    "elif ((A1 <= A2 and B1 <= B2 and C1 <= C2) or\n",
    "        (A1 <= A2 and B1 <= C2 and C1 <= B2) or\n",
    "        (A1 <= C2 and B1 <= A2 and C1 <= B2) or\n",
    "        (A1 <= B2 and B1 <= A2 and C1 <= C2) or\n",
    "        (A1 <= B2 and B1 <= C2 and C1 <= A2) or\n",
    "        (A1 <= C2 and B1 <= B2 and C1 <= A2)):\n",
    "    print('The first box is smaller than the second one')\n",
    "elif ((A1 >= A2 and B1 >= B2 and C1 >= C2) or\n",
    "        (A1 >= A2 and B1 >= C2 and C1 >= B2) or\n",
    "        (A1 >= C2 and B1 >= A2 and C1 >= B2) or\n",
    "        (A1 >= B2 and B1 >= A2 and C1 >= C2) or\n",
    "        (A1 >= B2 and B1 >= C2 and C1 >= A2) or\n",
    "        (A1 >= C2 and B1 >= B2 and C1 >= A2)):\n",
    "    print('The first box is larger than the second one')\n",
    "else:\n",
    "    print('Boxes are incomparable')"
   ]
  },
  {
   "cell_type": "markdown",
   "metadata": {},
   "source": [
    "Задача 19"
   ]
  },
  {
   "cell_type": "code",
   "execution_count": 72,
   "metadata": {},
   "outputs": [
    {
     "name": "stdout",
     "output_type": "stream",
     "text": [
      "100\n",
      "2\n",
      "100\n",
      "2\n",
      "3\n",
      "2\n",
      "1650\n"
     ]
    }
   ],
   "source": [
    "a1 = int(input())\n",
    "b1 = int(input())\n",
    "c1 = int(input())\n",
    "x = int(input())\n",
    "y = int(input())\n",
    "z = int(input())\n",
    "\n",
    "d1 = (a1 // x) * (b1 // y) * (c1 // z)\n",
    "d2 = (a1 // x) * (c1 // y) * (b1 // z)\n",
    "d3 = (b1 // x) * (c1 // y) * (a1 // z)\n",
    "d4 = (b1 // x) * (a1 // y) * (c1 // z)\n",
    "d5 = (c1 // x) * (a1 // y) * (b1 // z)\n",
    "d6 = (c1 // x) * (b1 // y) * (a1 // z)\n",
    "\n",
    "if d1 >= d2:\n",
    "    d2 = d1\n",
    "if d3 >= d4:\n",
    "    d4 = d2\n",
    "if d5 >= d6:\n",
    "    d6 = d5\n",
    "\n",
    "if d2 >= d4 and d2 >= d6:\n",
    "    print(d2)\n",
    "elif d4 >= d6:\n",
    "    print(d4)\n",
    "else:\n",
    "    print(d6)"
   ]
  },
  {
   "cell_type": "markdown",
   "metadata": {},
   "source": [
    "Задача 20"
   ]
  },
  {
   "cell_type": "code",
   "execution_count": 73,
   "metadata": {},
   "outputs": [
    {
     "name": "stdout",
     "output_type": "stream",
     "text": [
      "9\n",
      "YES\n"
     ]
    }
   ],
   "source": [
    "k = int(input())\n",
    "if k % 3 == 0 or k % 5 == 0 or k % 3 == 2 or k % 5 == 3:\n",
    "    print('YES')\n",
    "elif k >= 6 and (k - 6) % 5 == 0:\n",
    "    print('YES')\n",
    "elif k >= 9 and (k - 9) % 5 == 0:\n",
    "    print('YES')\n",
    "elif k >= 12 and (k - 12) % 5 == 0:\n",
    "    print('YES')\n",
    "elif k <= 4:\n",
    "    print('NO')\n",
    "else:\n",
    "    print('NO')"
   ]
  },
  {
   "cell_type": "markdown",
   "metadata": {},
   "source": [
    "Задача 21"
   ]
  },
  {
   "cell_type": "code",
   "execution_count": 75,
   "metadata": {},
   "outputs": [
    {
     "name": "stdout",
     "output_type": "stream",
     "text": [
      "3\n",
      "4\n",
      "5\n",
      "1\n",
      "NO\n"
     ]
    }
   ],
   "source": [
    "a=int(input())\n",
    "b=int(input())\n",
    "c=int(input())\n",
    "d=int(input())\n",
    "if a == 0 and b == 0:\n",
    "    print('INF')\n",
    "elif a == 0 or b * c == a * d:\n",
    "    print('NO')\n",
    "elif b % a == 0:\n",
    "    x = -b // a\n",
    "    print(x)\n",
    "else:\n",
    "    print('NO')"
   ]
  },
  {
   "cell_type": "markdown",
   "metadata": {},
   "source": [
    "Задача 22"
   ]
  },
  {
   "cell_type": "code",
   "execution_count": 76,
   "metadata": {},
   "outputs": [
    {
     "name": "stdout",
     "output_type": "stream",
     "text": [
      "4\n",
      "5\n",
      "7\n",
      "10\n"
     ]
    }
   ],
   "source": [
    "K = int(input())\n",
    "m = int(input())\n",
    "n = int(input())\n",
    "if n<=k:\n",
    "    t=2*m\n",
    "elif n*2 % k==0:\n",
    "    t = m*(n*2 // k)\n",
    "else:\n",
    "    t = m*(1+(n*2 // k))\n",
    "print(t)"
   ]
  },
  {
   "cell_type": "markdown",
   "metadata": {},
   "source": [
    "Задача 23"
   ]
  },
  {
   "cell_type": "code",
   "execution_count": 77,
   "metadata": {},
   "outputs": [
    {
     "name": "stdout",
     "output_type": "stream",
     "text": [
      "3\n",
      "4\n",
      "3\n",
      "5\n",
      "6\n",
      "7\n",
      "0\n"
     ]
    }
   ],
   "source": [
    "l1 = int(input())\n",
    "r1 = int(input())\n",
    "l2 = int(input())\n",
    "r2 = int(input())\n",
    "l3 = int(input())\n",
    "r3 = int(input())\n",
    " \n",
    "if (l1 >= 0) and (l1 < r1) and (r1 <= 100) and \\\n",
    "        (l2 >= 0) and (l2 < r2) and (r2 <= 100) and \\\n",
    "        (l3 >= 0) and (l3 < r3) and (r3 <= 100):\n",
    "    if ((l2 - r1) <= 1) and ((l3-r2) > 1) and (l1 < l2) and \\\n",
    "            (l2 < r3) and (l1 < r3):\n",
    "        print(3)\n",
    "    elif ((l2-r1) > 1) and ((l3-r2) > 1) and (l2-r1) <= (r3-l3):\n",
    "        print(3)\n",
    "    elif ((l2-r1) > 1) and ((l3-r2) <= 1):\n",
    "        print(1)\n",
    "    elif ((l2-r1) <= 1) and (((l3-r2) <= 1) or ((l3-r1) <= 1)):\n",
    "        print(0)\n",
    "    else:\n",
    "        print(-1)\n",
    "else:\n",
    "    print(-1)"
   ]
  },
  {
   "cell_type": "markdown",
   "metadata": {},
   "source": [
    "Задача 24"
   ]
  },
  {
   "cell_type": "code",
   "execution_count": 21,
   "metadata": {
    "scrolled": true
   },
   "outputs": [
    {
     "name": "stdout",
     "output_type": "stream",
     "text": [
      "3\n",
      "2\n",
      "2\n",
      "3\n",
      "1\n",
      "2\n",
      "5\n",
      "2\n",
      "3\n",
      "NO\n"
     ]
    }
   ],
   "source": [
    "l1, w1, h1, l2, w2, h2, lc, wc, hc = int(input()),int(input()),int(input()),int(input()),int(input()),int(input()),int(input()),int(input()),int(input())\n",
    "ind = True\n",
    "l=l1\n",
    "l1 = max(l1, w1)\n",
    "w1 = min(l, w1)\n",
    "l=l2;\n",
    "l2 = max(l2, w2)\n",
    "w2 = min(l, w2)\n",
    "l=lc;\n",
    "lc = max(lc, wc)\n",
    "wc = min(l, wc)\n",
    "if l1<=lc and w1<=wc and l2<=lc and w2<=wc:\n",
    "    if h1>hc or h2>hc:\n",
    "        print(\"NO\")\n",
    "        ind = False\n",
    "if ind and l1<=lc and w1<=wc:\n",
    "        if ind and l2<=wc-w1 and w2<=lc:\n",
    "            print(\"YES\")\n",
    "            ind = False\n",
    "        elif ind and w2<=wc-w1 and l2<=lc:\n",
    "            print(\"YES\")\n",
    "            ind = False\n",
    "        elif ind and l2<=lc-l1 and w2<=wc:\n",
    "            print(\"YES\")\n",
    "            ind = False\n",
    "        elif ind and w2<=lc-l1 and l2<=wc:\n",
    "            print(\"YES\")\n",
    "            ind = False\n",
    "elif ind and w1<=lc and l1<=wc:\n",
    "        if ind and l2<=wc-l1 and w2<=lc:\n",
    "                printf(\"YES\")\n",
    "                ind = False\n",
    "        elif ind and l2<=lc and w2<=wc-l1:\n",
    "                print(\"YES\")\n",
    "                ind = False\n",
    "        elif ind and l2<=lc-w1 and w2<=wc:\n",
    "                print(\"YES\")\n",
    "                ind = False\n",
    "        elif ind and w2<=lc-w1 and l2<=wc:\n",
    "                print(\"YES\")\n",
    "                ind = False\n",
    "if ind and h1+h2<=hc and l1<=lc and w1<=wc and l2<=lc and w2<=wc:\n",
    "        print(\"YES\")\n",
    "        ind = False\n",
    "elif ind:\n",
    "    print(\"NO\")"
   ]
  }
 ],
 "metadata": {
  "kernelspec": {
   "display_name": "Python 3",
   "language": "python",
   "name": "python3"
  }
 },
 "nbformat": 4,
 "nbformat_minor": 4
}
